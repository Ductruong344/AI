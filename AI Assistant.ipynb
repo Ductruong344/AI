{
 "cells": [
  {
   "cell_type": "code",
   "execution_count": 21,
   "id": "feb25d0f",
   "metadata": {},
   "outputs": [],
   "source": []
  },
  {
   "cell_type": "code",
   "execution_count": 7,
   "id": "d923efff",
   "metadata": {},
   "outputs": [
    {
     "name": "stdout",
     "output_type": "stream",
     "text": [
      "Collecting SpeechRecognitionNote: you may need to restart the kernel to use updated packages.\n",
      "\n",
      "  Downloading SpeechRecognition-3.9.0-py2.py3-none-any.whl (32.8 MB)\n",
      "Requirement already satisfied: requests>=2.26.0 in c:\\users\\kiro\\anaconda3\\lib\\site-packages (from SpeechRecognition) (2.27.1)\n",
      "Requirement already satisfied: idna<4,>=2.5 in c:\\users\\kiro\\anaconda3\\lib\\site-packages (from requests>=2.26.0->SpeechRecognition) (3.3)\n",
      "Requirement already satisfied: charset-normalizer~=2.0.0 in c:\\users\\kiro\\anaconda3\\lib\\site-packages (from requests>=2.26.0->SpeechRecognition) (2.0.4)\n",
      "Requirement already satisfied: urllib3<1.27,>=1.21.1 in c:\\users\\kiro\\anaconda3\\lib\\site-packages (from requests>=2.26.0->SpeechRecognition) (1.26.13)\n",
      "Requirement already satisfied: certifi>=2017.4.17 in c:\\users\\kiro\\anaconda3\\lib\\site-packages (from requests>=2.26.0->SpeechRecognition) (2021.10.8)\n",
      "Installing collected packages: SpeechRecognition\n",
      "Successfully installed SpeechRecognition-3.9.0\n"
     ]
    }
   ],
   "source": [
    "pip install SpeechRecognition"
   ]
  },
  {
   "cell_type": "code",
   "execution_count": 3,
   "id": "2fda3b65",
   "metadata": {},
   "outputs": [
    {
     "name": "stdout",
     "output_type": "stream",
     "text": [
      "Collecting wolframalpha\n",
      "  Downloading wolframalpha-5.0.0-py3-none-any.whl (7.5 kB)\n",
      "Collecting more-itertools\n",
      "  Downloading more_itertools-9.0.0-py3-none-any.whl (52 kB)\n",
      "Collecting xmltodict\n",
      "  Downloading xmltodict-0.13.0-py2.py3-none-any.whl (10.0 kB)\n",
      "Collecting jaraco.context\n",
      "  Downloading jaraco.context-4.3.0-py3-none-any.whl (5.3 kB)\n",
      "Installing collected packages: xmltodict, more-itertools, jaraco.context, wolframalpha\n",
      "Successfully installed jaraco.context-4.3.0 more-itertools-9.0.0 wolframalpha-5.0.0 xmltodict-0.13.0\n",
      "Note: you may need to restart the kernel to use updated packages.\n"
     ]
    }
   ],
   "source": [
    "pip install wolframalpha"
   ]
  },
  {
   "cell_type": "code",
   "execution_count": 8,
   "id": "9693c77d",
   "metadata": {},
   "outputs": [
    {
     "name": "stdout",
     "output_type": "stream",
     "text": [
      "Requirement already satisfied: SpeechRecognition in c:\\users\\kiro\\anaconda3\\lib\\site-packages (3.9.0)\n",
      "Requirement already satisfied: requests>=2.26.0 in c:\\users\\kiro\\anaconda3\\lib\\site-packages (from SpeechRecognition) (2.27.1)\n",
      "Requirement already satisfied: idna<4,>=2.5 in c:\\users\\kiro\\anaconda3\\lib\\site-packages (from requests>=2.26.0->SpeechRecognition) (3.3)\n",
      "Requirement already satisfied: charset-normalizer~=2.0.0 in c:\\users\\kiro\\anaconda3\\lib\\site-packages (from requests>=2.26.0->SpeechRecognition) (2.0.4)\n",
      "Requirement already satisfied: certifi>=2017.4.17 in c:\\users\\kiro\\anaconda3\\lib\\site-packages (from requests>=2.26.0->SpeechRecognition) (2021.10.8)\n",
      "Requirement already satisfied: urllib3<1.27,>=1.21.1 in c:\\users\\kiro\\anaconda3\\lib\\site-packages (from requests>=2.26.0->SpeechRecognition) (1.26.13)\n",
      "Note: you may need to restart the kernel to use updated packages.\n"
     ]
    }
   ],
   "source": [
    "pip install SpeechRecognition"
   ]
  },
  {
   "cell_type": "code",
   "execution_count": 9,
   "id": "3545d380",
   "metadata": {},
   "outputs": [
    {
     "name": "stdout",
     "output_type": "stream",
     "text": [
      "Collecting wikipediaNote: you may need to restart the kernel to use updated packages.\n",
      "\n",
      "  Using cached wikipedia-1.4.0.tar.gz (27 kB)\n",
      "Requirement already satisfied: beautifulsoup4 in c:\\users\\kiro\\anaconda3\\lib\\site-packages (from wikipedia) (4.11.1)\n",
      "Requirement already satisfied: requests<3.0.0,>=2.0.0 in c:\\users\\kiro\\anaconda3\\lib\\site-packages (from wikipedia) (2.27.1)\n",
      "Requirement already satisfied: urllib3<1.27,>=1.21.1 in c:\\users\\kiro\\anaconda3\\lib\\site-packages (from requests<3.0.0,>=2.0.0->wikipedia) (1.26.13)\n",
      "Requirement already satisfied: charset-normalizer~=2.0.0 in c:\\users\\kiro\\anaconda3\\lib\\site-packages (from requests<3.0.0,>=2.0.0->wikipedia) (2.0.4)\n",
      "Requirement already satisfied: certifi>=2017.4.17 in c:\\users\\kiro\\anaconda3\\lib\\site-packages (from requests<3.0.0,>=2.0.0->wikipedia) (2021.10.8)\n",
      "Requirement already satisfied: idna<4,>=2.5 in c:\\users\\kiro\\anaconda3\\lib\\site-packages (from requests<3.0.0,>=2.0.0->wikipedia) (3.3)\n",
      "Requirement already satisfied: soupsieve>1.2 in c:\\users\\kiro\\anaconda3\\lib\\site-packages (from beautifulsoup4->wikipedia) (2.3.1)\n",
      "Building wheels for collected packages: wikipedia\n",
      "  Building wheel for wikipedia (setup.py): started\n",
      "  Building wheel for wikipedia (setup.py): finished with status 'done'\n",
      "  Created wheel for wikipedia: filename=wikipedia-1.4.0-py3-none-any.whl size=11695 sha256=20acf2cc59ae36cc5ad3b2440ca2dba4873361c9a5a4587cea1c1ada7c566a5c\n",
      "  Stored in directory: c:\\users\\kiro\\appdata\\local\\pip\\cache\\wheels\\c2\\46\\f4\\caa1bee71096d7b0cdca2f2a2af45cacf35c5760bee8f00948\n",
      "Successfully built wikipedia\n",
      "Installing collected packages: wikipedia\n",
      "Successfully installed wikipedia-1.4.0\n"
     ]
    }
   ],
   "source": [
    "pip install wikipedia\n"
   ]
  },
  {
   "cell_type": "code",
   "execution_count": 11,
   "id": "d6670d8a",
   "metadata": {},
   "outputs": [
    {
     "name": "stdout",
     "output_type": "stream",
     "text": [
      "Requirement already satisfied: winshell in c:\\users\\kiro\\anaconda3\\lib\\site-packages (0.6)Note: you may need to restart the kernel to use updated packages.\n",
      "\n"
     ]
    }
   ],
   "source": [
    "pip install winshell"
   ]
  },
  {
   "cell_type": "code",
   "execution_count": 5,
   "id": "55f12d81",
   "metadata": {},
   "outputs": [
    {
     "name": "stdout",
     "output_type": "stream",
     "text": [
      "Collecting pyttsx3\n",
      "  Downloading pyttsx3-2.90-py3-none-any.whl (39 kB)\n",
      "Requirement already satisfied: pywin32 in c:\\users\\kiro\\anaconda3\\lib\\site-packages (from pyttsx3) (302)\n",
      "Requirement already satisfied: comtypes in c:\\users\\kiro\\anaconda3\\lib\\site-packages (from pyttsx3) (1.1.10)\n",
      "Collecting pypiwin32\n",
      "  Downloading pypiwin32-223-py3-none-any.whl (1.7 kB)\n",
      "Installing collected packages: pypiwin32, pyttsx3\n",
      "Successfully installed pypiwin32-223 pyttsx3-2.90\n",
      "Note: you may need to restart the kernel to use updated packages.\n"
     ]
    }
   ],
   "source": [
    "pip install pyttsx3"
   ]
  },
  {
   "cell_type": "code",
   "execution_count": null,
   "id": "6913cdb2",
   "metadata": {},
   "outputs": [],
   "source": []
  },
  {
   "cell_type": "code",
   "execution_count": 13,
   "id": "c38e7303",
   "metadata": {},
   "outputs": [
    {
     "name": "stdout",
     "output_type": "stream",
     "text": [
      "Collecting feedparser\n",
      "  Using cached feedparser-6.0.10-py3-none-any.whl (81 kB)\n",
      "Collecting sgmllib3k\n",
      "  Using cached sgmllib3k-1.0.0.tar.gz (5.8 kB)\n",
      "Building wheels for collected packages: sgmllib3k\n",
      "  Building wheel for sgmllib3k (setup.py): started\n",
      "  Building wheel for sgmllib3k (setup.py): finished with status 'done'\n",
      "  Created wheel for sgmllib3k: filename=sgmllib3k-1.0.0-py3-none-any.whl size=6066 sha256=e12a768fbd01c6e17d45ed548a4f82ae3b1087ae97a8b430eca9896a3e449d60\n",
      "  Stored in directory: c:\\users\\kiro\\appdata\\local\\pip\\cache\\wheels\\65\\7a\\a7\\78c287f64e401255dff4c13fdbc672fed5efbfd21c530114e1\n",
      "Successfully built sgmllib3k\n",
      "Installing collected packages: sgmllib3k, feedparser\n",
      "Successfully installed feedparser-6.0.10 sgmllib3k-1.0.0\n",
      "Note: you may need to restart the kernel to use updated packages.\n"
     ]
    }
   ],
   "source": [
    "pip install feedparser"
   ]
  },
  {
   "cell_type": "code",
   "execution_count": 14,
   "id": "2df141f8",
   "metadata": {},
   "outputs": [
    {
     "name": "stdout",
     "output_type": "stream",
     "text": [
      "Collecting twilioNote: you may need to restart the kernel to use updated packages.\n",
      "\n",
      "  Using cached twilio-7.16.3-py2.py3-none-any.whl (1.4 MB)\n",
      "Requirement already satisfied: PyJWT<3.0.0,>=2.0.0 in c:\\users\\kiro\\anaconda3\\lib\\site-packages (from twilio) (2.1.0)\n",
      "Requirement already satisfied: requests>=2.0.0 in c:\\users\\kiro\\anaconda3\\lib\\site-packages (from twilio) (2.27.1)\n",
      "Requirement already satisfied: pytz in c:\\users\\kiro\\anaconda3\\lib\\site-packages (from twilio) (2021.3)\n",
      "Requirement already satisfied: charset-normalizer~=2.0.0 in c:\\users\\kiro\\anaconda3\\lib\\site-packages (from requests>=2.0.0->twilio) (2.0.4)\n",
      "Requirement already satisfied: idna<4,>=2.5 in c:\\users\\kiro\\anaconda3\\lib\\site-packages (from requests>=2.0.0->twilio) (3.3)\n",
      "Requirement already satisfied: certifi>=2017.4.17 in c:\\users\\kiro\\anaconda3\\lib\\site-packages (from requests>=2.0.0->twilio) (2021.10.8)\n",
      "Requirement already satisfied: urllib3<1.27,>=1.21.1 in c:\\users\\kiro\\anaconda3\\lib\\site-packages (from requests>=2.0.0->twilio) (1.26.13)\n",
      "Installing collected packages: twilio\n",
      "Successfully installed twilio-7.16.3\n"
     ]
    }
   ],
   "source": [
    "pip install twilio"
   ]
  },
  {
   "cell_type": "code",
   "execution_count": 16,
   "id": "3deb6dea",
   "metadata": {},
   "outputs": [
    {
     "name": "stdout",
     "output_type": "stream",
     "text": [
      "Collecting clint\n",
      "  Using cached clint-0.5.1.tar.gz (29 kB)\n",
      "Collecting args\n",
      "  Using cached args-0.1.0.tar.gz (3.0 kB)\n",
      "Building wheels for collected packages: clint, args\n",
      "  Building wheel for clint (setup.py): started\n",
      "  Building wheel for clint (setup.py): finished with status 'done'\n",
      "  Created wheel for clint: filename=clint-0.5.1-py3-none-any.whl size=34473 sha256=48a0d31fc2324e232c3ef11906a8bf9d44cb70cff032cb4816c2f2922652b418\n",
      "  Stored in directory: c:\\users\\kiro\\appdata\\local\\pip\\cache\\wheels\\2c\\69\\16\\04ffdd2e6fbbf2b3aa97970ba8d01c36d09df025f19f25c57e\n",
      "  Building wheel for args (setup.py): started\n",
      "  Building wheel for args (setup.py): finished with status 'done'\n",
      "  Created wheel for args: filename=args-0.1.0-py3-none-any.whl size=3318 sha256=62316cdf83d9717d42e0b0a489be24c4300e4e1942c643154ff4a937d9f15365\n",
      "  Stored in directory: c:\\users\\kiro\\appdata\\local\\pip\\cache\\wheels\\35\\22\\2d\\ee3fc491993d35adc89bcc8f558090cabefeff184a9537928d\n",
      "Successfully built clint args\n",
      "Installing collected packages: args, clint\n",
      "Successfully installed args-0.1.0 clint-0.5.1\n",
      "Note: you may need to restart the kernel to use updated packages.\n"
     ]
    }
   ],
   "source": [
    "pip install clint"
   ]
  },
  {
   "cell_type": "code",
   "execution_count": 17,
   "id": "8f03c32f",
   "metadata": {},
   "outputs": [
    {
     "name": "stdout",
     "output_type": "stream",
     "text": [
      "Collecting ecapture\n",
      "  Using cached ecapture-2.0.2-py3-none-any.whl (17 kB)\n",
      "Requirement already satisfied: opencv-python in c:\\users\\kiro\\anaconda3\\lib\\site-packages (from ecapture) (4.6.0.66)\n",
      "Requirement already satisfied: numpy>=1.17.3 in c:\\users\\kiro\\anaconda3\\lib\\site-packages (from opencv-python->ecapture) (1.21.5)\n",
      "Installing collected packages: ecapture\n",
      "Successfully installed ecapture-2.0.2\n",
      "Note: you may need to restart the kernel to use updated packages.\n"
     ]
    }
   ],
   "source": [
    "pip install ecapture"
   ]
  },
  {
   "cell_type": "code",
   "execution_count": 18,
   "id": "df5e7e9b",
   "metadata": {},
   "outputs": [
    {
     "name": "stdout",
     "output_type": "stream",
     "text": [
      "Collecting bs4\n",
      "  Using cached bs4-0.0.1.tar.gz (1.1 kB)\n",
      "Requirement already satisfied: beautifulsoup4 in c:\\users\\kiro\\anaconda3\\lib\\site-packages (from bs4) (4.11.1)\n",
      "Requirement already satisfied: soupsieve>1.2 in c:\\users\\kiro\\anaconda3\\lib\\site-packages (from beautifulsoup4->bs4) (2.3.1)\n",
      "Building wheels for collected packages: bs4\n",
      "  Building wheel for bs4 (setup.py): started\n",
      "  Building wheel for bs4 (setup.py): finished with status 'done'\n",
      "  Created wheel for bs4: filename=bs4-0.0.1-py3-none-any.whl size=1272 sha256=f2062581ad91b9317d05e6482eac17b13ea2fb241b6adb254f2126f3c8b696d9\n",
      "  Stored in directory: c:\\users\\kiro\\appdata\\local\\pip\\cache\\wheels\\73\\2b\\cb\\099980278a0c9a3e57ff1a89875ec07bfa0b6fcbebb9a8cad3\n",
      "Successfully built bs4\n",
      "Installing collected packages: bs4\n",
      "Successfully installed bs4-0.0.1\n",
      "Note: you may need to restart the kernel to use updated packages.\n"
     ]
    }
   ],
   "source": [
    "pip install bs4"
   ]
  },
  {
   "cell_type": "code",
   "execution_count": 1,
   "id": "c57397f3",
   "metadata": {},
   "outputs": [],
   "source": [
    "import subprocess\n",
    "import wolframalpha\n",
    "import pyttsx3\n",
    "import tkinter\n",
    "import json\n",
    "import random\n",
    "import operator\n",
    "import speech_recognition as sr\n",
    "import datetime\n",
    "import wikipedia\n",
    "import webbrowser\n",
    "import os\n",
    "import winshell\n",
    "import feedparser\n",
    "import smtplib\n",
    "import ctypes\n",
    "import time\n",
    "import requests\n",
    "import shutil\n",
    "from twilio.rest import Client\n",
    "from clint.textui import progress\n",
    "from ecapture import ecapture as ec\n",
    "from bs4 import BeautifulSoup\n",
    "import win32com.client as wincl\n",
    "from urllib.request import urlopen\n"
   ]
  },
  {
   "cell_type": "code",
   "execution_count": 2,
   "id": "5e7abbfd",
   "metadata": {},
   "outputs": [],
   "source": [
    "engine = pyttsx3.init('sapi5')\n",
    "voices = engine.getProperty('voices')\n",
    "engine.setProperty('voice', voices[1].id)\n"
   ]
  },
  {
   "cell_type": "code",
   "execution_count": 3,
   "id": "7964c1d0",
   "metadata": {},
   "outputs": [],
   "source": [
    "def speak(audio):\n",
    "    engine.say(audio)\n",
    "    engine.runAndWait()\n",
    "\n",
    "def wishMe():\n",
    "    hour = int(datetime.datetime.now().hour)\n",
    "    if hour>= 0 and hour<12:\n",
    "        speak(\"Good Morning Sir !\")\n",
    "\n",
    "    elif hour>= 12 and hour<18:\n",
    "        speak(\"Good Afternoon Sir !\")\n",
    "\n",
    "    else:\n",
    "        speak(\"Good Evening Sir !\")\n",
    "\n",
    "    assname =(\"Jarvis 1 point o\")\n",
    "    speak(\"I am your Assistant\")\n",
    "    speak(assname)\n",
    "    \n",
    "\n",
    "def username():\n",
    "    speak(\"What should i call you sir\")\n",
    "    uname = takeCommand()\n",
    "    speak(\"Welcome Mister\")\n",
    "    speak(uname)\n",
    "    columns = shutil.get_terminal_size().columns\n",
    "    \n",
    "    print(\"#####################\".center(columns))\n",
    "    print(\"Welcome Mr.\", uname.center(columns))\n",
    "    print(\"#####################\".center(columns))\n",
    "    \n",
    "    speak(\"How can i Help you, Sir\")\n",
    "\n",
    "def takeCommand():\n",
    "    \n",
    "    r = sr.Recognizer()\n",
    "    \n",
    "    with sr.Microphone() as source:\n",
    "        \n",
    "        print(\"Listening...\")\n",
    "        r.pause_threshold = 1\n",
    "        audio = r.listen(source)\n",
    "\n",
    "    try:\n",
    "        print(\"Recognizing...\")\n",
    "        query = r.recognize_google(audio, language ='en-in')\n",
    "        print(f\"User said: {query}\\n\")\n",
    "\n",
    "    except Exception as e:\n",
    "        print(e)\n",
    "        print(\"Unable to Recognize your voice.\")\n",
    "        return \"None\"\n",
    "    \n",
    "    return query\n",
    "\n",
    "def sendEmail(to, content):\n",
    "    server = smtplib.SMTP('smtp.gmail.com', 587)\n",
    "    server.ehlo()\n",
    "    server.starttls()\n",
    "    server.login('your email id', 'your email password')\n",
    "    server.sendmail('your email id', to, content)\n",
    "    server.close()\n"
   ]
  },
  {
   "cell_type": "code",
   "execution_count": 6,
   "id": "571a8312",
   "metadata": {
    "scrolled": true
   },
   "outputs": [
    {
     "ename": "SyntaxError",
     "evalue": "(unicode error) 'unicodeescape' codec can't decode bytes in position 2-3: truncated \\UXXXXXXXX escape (1309858408.py, line 31)",
     "output_type": "error",
     "traceback": [
      "\u001b[1;36m  Input \u001b[1;32mIn [6]\u001b[1;36m\u001b[0m\n\u001b[1;33m    music_dir = \"C:\\Users\\Kiro\\Music\"\u001b[0m\n\u001b[1;37m                                     ^\u001b[0m\n\u001b[1;31mSyntaxError\u001b[0m\u001b[1;31m:\u001b[0m (unicode error) 'unicodeescape' codec can't decode bytes in position 2-3: truncated \\UXXXXXXXX escape\n"
     ]
    }
   ],
   "source": [
    "if __name__ == '__main__':\n",
    "    clear = lambda: os.system('cls')\n",
    "\n",
    "    clear()\n",
    "    wishMe()\n",
    "    username()\n",
    "    \n",
    "    while True:\n",
    "        \n",
    "        query = takeCommand().lower()\n",
    "\n",
    "        if 'wikipedia' in query:\n",
    "            speak('Searching Wikipedia...')\n",
    "            query = query.replace(\"wikipedia\", \"\")\n",
    "            results = wikipedia.summary(query, sentences = 3)\n",
    "            speak(\"According to Wikipedia\")\n",
    "            print(results)\n",
    "            speak(results)\n",
    "\n",
    "        elif 'open youtube' in query:\n",
    "            speak(\"Here you go to Youtube\")\n",
    "            webbrowser.open(\"youtube.com\")\n",
    "\n",
    "        elif 'open google' in query:\n",
    "            speak(\"Here you go to Google\")\n",
    "            webbrowser.open(\"google.com\")\n",
    "\n",
    "\n",
    "        elif 'play music' in query or \"play song\" in query:\n",
    "            speak(\"Here you go with music\")\n",
    "            music_dir = \"C:\\Users\\Kiro\\Music\"\n",
    "            songs = os.listdir(music_dir)\n",
    "            print(songs)\n",
    "            random = os.startfile(os.path.join(music_dir, songs[1]))\n",
    "\n",
    "        elif 'the time' in query:\n",
    "            strTime = datetime.datetime.now().strftime(\"% H:% M:% S\")\n",
    "            speak(f\"Sir, the time is {strTime}\")\n",
    "\n",
    "            \n",
    "        elif 'send a mail' in query:\n",
    "            try:\n",
    "                speak(\"What should I say?\")\n",
    "                content = takeCommand()\n",
    "                speak(\"whome should i send\")\n",
    "                to = input()\n",
    "                sendEmail(to, content)\n",
    "                speak(\"Email has been sent !\")\n",
    "            except Exception as e:\n",
    "                print(e)\n",
    "                speak(\"I am not able to send this email\")\n",
    "\n",
    "        elif 'how are you' in query:\n",
    "            speak(\"I am fine, Thank you\")\n",
    "            speak(\"How are you, Sir\")\n",
    "\n",
    "        elif 'fine' in query or \"good\" in query:\n",
    "            speak(\"It's good to know that your fine\")\n",
    "\n",
    "        elif \"change my name to\" in query:\n",
    "            query = query.replace(\"change my name to\", \"\")\n",
    "            assname = query\n",
    "\n",
    "        elif \"change name\" in query:\n",
    "            speak(\"What would you like to call me, Sir \")\n",
    "            assname = takeCommand()\n",
    "            speak(\"Thanks for naming me\")\n",
    "\n",
    "        elif \"what's your name\" in query or \"What is your name\" in query:\n",
    "            speak(\"My friends call me\")\n",
    "            speak(assname)\n",
    "            print(\"My friends call me\", assname)\n",
    "\n",
    "        elif 'exit' in query:\n",
    "            speak(\"Thanks for giving me your time\")\n",
    "            exit()\n",
    "\n",
    "        elif \"who made you\" in query or \"who created you\" in query:\n",
    "            speak(\"I have been created by Kiro.\")\n",
    "\n",
    "            \n",
    "        elif \"calculate\" in query:\n",
    "            app_id = \"Wolframalpha api id\"\n",
    "            client = wolframalpha.Client(app_id)\n",
    "            indx = query.lower().split().index('calculate')\n",
    "            query = query.split()[indx + 1:]\n",
    "            res = client.query(' '.join(query))\n",
    "            answer = next(res.results).text\n",
    "            print(\"The answer is \" + answer)\n",
    "            speak(\"The answer is \" + answer)\n",
    "\n",
    "        elif 'search' in query or 'play' in query:\n",
    "            \n",
    "            query = query.replace(\"search\", \"\")\n",
    "            query = query.replace(\"play\", \"\")\t\t\n",
    "            webbrowser.open(query)\n",
    "\n",
    "        elif \"who i am\" in query:\n",
    "            speak(\"If you talk then definitely your human.\")\n",
    "\n",
    "        elif \"why you came to world\" in query:\n",
    "            speak(\"Thanks to Kiro. further It's a secret\")\n",
    "\n",
    "        elif 'is love' in query:\n",
    "            speak(\"It is 7th sense that destroy all other senses\")\n",
    "\n",
    "        elif \"who are you\" in query:\n",
    "            speak(\"I am your virtual assistant created by Kiro\")\n",
    "\n",
    "        elif 'reason for you' in query:\n",
    "            speak(\"I was created as a Final project by MR.Kiro \")\n",
    "\n",
    "        elif 'change background' in query:\n",
    "            ctypes.windll.user32.SystemParametersInfoW(20, 0,\"Location of wallpaper\",0)\n",
    "            speak(\"Background changed successfully\")\n",
    "\n",
    "        elif 'open bluestack' in query:\n",
    "            appli = r\"C:\\\\ProgramData\\\\BlueStacks\\\\Client\\\\Bluestacks.exe\"\n",
    "            os.startfile(appli)\n",
    "\n",
    "        elif 'news' in query:\n",
    "            \n",
    "            try:\n",
    "                jsonObj = urlopen('''https://newsapi.org / v1 / articles?source = the-times-of-india&sortBy = top&apiKey =\\\\times of India Api key\\\\''')\n",
    "                data = json.load(jsonObj)\n",
    "                i = 1\n",
    "                \n",
    "                speak('here are some top news from the times of india')\n",
    "                print('''=============== TIMES OF INDIA ============'''+ '\\n')\n",
    "                \n",
    "                for item in data['articles']:\n",
    "                    \n",
    "                    print(str(i) + '. ' + item['title'] + '\\n')\n",
    "                    print(item['description'] + '\\n')\n",
    "                    speak(str(i) + '. ' + item['title'] + '\\n')\n",
    "                    i += 1\n",
    "            except Exception as e:\n",
    "                \n",
    "                print(str(e))\n",
    "\n",
    "        \n",
    "        elif 'lock window' in query:\n",
    "                speak(\"locking the device\")\n",
    "                ctypes.windll.user32.LockWorkStation()\n",
    "\n",
    "        elif 'shutdown system' in query:\n",
    "                speak(\"Hold On a Sec ! Your system is on its way to shut down\")\n",
    "                subprocess.call('shutdown / p /f')\n",
    "                \n",
    "        elif 'empty recycle bin' in query:\n",
    "            winshell.recycle_bin().empty(confirm = False, show_progress = False, sound = True)\n",
    "            speak(\"Recycle Bin Recycled\")\n",
    "\n",
    "        elif \"don't listen\" in query or \"stop listening\" in query:\n",
    "            speak(\"for how much time you want to stop jarvis from listening commands\")\n",
    "            a = int(takeCommand())\n",
    "            time.sleep(a)\n",
    "            print(a)\n",
    "\n",
    "        elif \"where is\" in query:\n",
    "            query = query.replace(\"where is\", \"\")\n",
    "            location = query\n",
    "            speak(\"User asked to Locate\")\n",
    "            speak(location)\n",
    "            webbrowser.open(\"https://www.google.nl / maps / place/\" + location + \"\")\n",
    "\n",
    "        elif \"camera\" in query or \"take a photo\" in query:\n",
    "            ec.capture(0, \"Jarvis Camera \", \"img.jpg\")\n",
    "\n",
    "        elif \"restart\" in query:\n",
    "            subprocess.call([\"shutdown\", \"/r\"])\n",
    "            \n",
    "        elif \"hibernate\" in query or \"sleep\" in query:\n",
    "            speak(\"Hibernating\")\n",
    "            subprocess.call(\"shutdown / h\")\n",
    "\n",
    "        elif \"log off\" in query or \"sign out\" in query:\n",
    "            speak(\"Make sure all the application are closed before sign-out\")\n",
    "            time.sleep(5)\n",
    "            subprocess.call([\"shutdown\", \"/l\"])\n",
    "\n",
    "\n",
    "        elif \"update assistant\" in query:\n",
    "            speak(\"After downloading file please replace this file with the downloaded one\")\n",
    "            url = '# url after uploading file'\n",
    "            r = requests.get(url, stream = True)\n",
    "            \n",
    "            with open(\"Voice.py\", \"wb\") as Pypdf:\n",
    "                \n",
    "                total_length = int(r.headers.get('content-length'))\n",
    "                \n",
    "                for ch in progress.bar(r.iter_content(chunk_size = 2391975),\n",
    "                                    expected_size =(total_length / 1024) + 1):\n",
    "                    if ch:\n",
    "                    Pypdf.write(ch)\n",
    "\n",
    "        elif \"jarvis\" in query:\n",
    "            \n",
    "            wishMe()\n",
    "            speak(\"Jarvis 1 point o in your service Mister\")\n",
    "            speak(assname)\n",
    "\n",
    "        elif \"weather\" in query:\n",
    "            api_key = \"Api key\"\n",
    "            base_url = \"http://api.openweathermap.org / data / 2.5 / weather?\"\n",
    "            speak(\" City name \")\n",
    "            print(\"City name : \")\n",
    "            city_name = takeCommand()\n",
    "            complete_url = base_url + \"appid =\" + api_key + \"&q =\" + city_name\n",
    "            response = requests.get(complete_url)\n",
    "            x = response.json()\n",
    "            \n",
    "            if x[\"code\"] != \"404\":\n",
    "                y = x[\"main\"]\n",
    "                current_temperature = y[\"temp\"]\n",
    "                current_pressure = y[\"pressure\"]\n",
    "                current_humidiy = y[\"humidity\"]\n",
    "                z = x[\"weather\"]\n",
    "                weather_description = z[0][\"description\"]\n",
    "                print(\" Temperature (in kelvin unit) = \" +str(current_temperature)+\"\\n atmospheric pressure (in hPa unit) =\"+str(current_pressure) +\"\\n humidity (in percentage) = \" +str(current_humidiy) +\"\\n description = \" +str(weather_description))\n",
    "            \n",
    "            else:\n",
    "                speak(\" City Not Found \")\n",
    "            \n",
    " \n",
    "        elif \"wikipedia\" in query:\n",
    "            webbrowser.open(\"wikipedia.com\")\n",
    "\n",
    "        elif \"Good Morning\" in query:\n",
    "            speak(\"A warm\" +query)\n",
    "            speak(\"How are you Mister\")\n",
    "            speak(assname)\n",
    "\n",
    "\n",
    "        elif \"how are you\" in query:\n",
    "            speak(\"I'm fine, glad you me that\")\n",
    "\n",
    "        elif \"i love you\" in query:\n",
    "            speak(\"It's hard to understand\")\n",
    "\n",
    "        elif \"what is\" in query or \"who is\" in query:\n",
    "\n",
    "            client = wolframalpha.Client(\"API_ID\")\n",
    "            res = client.query(query)\n",
    "            \n",
    "            try:\n",
    "                print (next(res.results).text)\n",
    "                speak (next(res.results).text)\n",
    "            except StopIteration:\n",
    "                print (\"No results\")"
   ]
  },
  {
   "cell_type": "code",
   "execution_count": null,
   "id": "f6da09d1",
   "metadata": {},
   "outputs": [],
   "source": []
  }
 ],
 "metadata": {
  "kernelspec": {
   "display_name": "Python 3 (ipykernel)",
   "language": "python",
   "name": "python3"
  },
  "language_info": {
   "codemirror_mode": {
    "name": "ipython",
    "version": 3
   },
   "file_extension": ".py",
   "mimetype": "text/x-python",
   "name": "python",
   "nbconvert_exporter": "python",
   "pygments_lexer": "ipython3",
   "version": "3.9.12"
  }
 },
 "nbformat": 4,
 "nbformat_minor": 5
}
